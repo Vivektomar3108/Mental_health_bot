{
 "cells": [
  {
   "cell_type": "code",
   "execution_count": 35,
   "id": "7b08307a",
   "metadata": {},
   "outputs": [],
   "source": [
    "from langchain_community.document_loaders import PyPDFDirectoryLoader\n",
    "\n",
    "from langchain_text_splitters import RecursiveCharacterTextSplitter\n",
    "from langchain.vectorstores import FAISS"
   ]
  },
  {
   "cell_type": "code",
   "execution_count": 36,
   "id": "7d6101eb",
   "metadata": {},
   "outputs": [],
   "source": [
    "loader = PyPDFDirectoryLoader('Doc')\n",
    "\n",
    "docs = loader.load()"
   ]
  },
  {
   "cell_type": "code",
   "execution_count": 37,
   "id": "9ebfe89d",
   "metadata": {},
   "outputs": [],
   "source": [
    "splitter = RecursiveCharacterTextSplitter(chunk_size=1000, chunk_overlap=200)\n",
    "chunk = splitter.split_documents(docs)"
   ]
  },
  {
   "cell_type": "code",
   "execution_count": 38,
   "id": "1ebe0c7e",
   "metadata": {},
   "outputs": [],
   "source": [
    "from langchain.embeddings import HuggingFaceEmbeddings\n",
    "\n",
    "embeddings = HuggingFaceEmbeddings(model_name=\"sentence-transformers/all-MiniLM-L6-v2\")\n"
   ]
  },
  {
   "cell_type": "code",
   "execution_count": 39,
   "id": "5531e382",
   "metadata": {},
   "outputs": [],
   "source": [
    "vector_store = FAISS.from_documents(chunk, embeddings)"
   ]
  },
  {
   "cell_type": "code",
   "execution_count": 40,
   "id": "bf1905ba",
   "metadata": {},
   "outputs": [],
   "source": [
    "retriever  = vector_store.as_retriever(search_type=\"mmr\", search_kwargs={\"k\":2})"
   ]
  },
  {
   "cell_type": "code",
   "execution_count": 41,
   "id": "c6e341ee",
   "metadata": {},
   "outputs": [],
   "source": [
    "def merge_chunks(chunks):\n",
    "    return \"\\n\\n\".join([chunk.page_content for chunk in chunks])"
   ]
  },
  {
   "cell_type": "code",
   "execution_count": 42,
   "id": "15e6f2fd",
   "metadata": {},
   "outputs": [],
   "source": [
    "from langchain.prompts import PromptTemplate\n",
    "\n",
    "template = \"\"\"\n",
    "You are a helpful and empathetic mental health assistant.\n",
    "\n",
    "You will be given:\n",
    "- A **context** (retrieved from mental health books/resources).\n",
    "- A **user question**.\n",
    "\n",
    "Guidelines:\n",
    "1. If the answer IS present in the context, use ONLY the context to answer.\n",
    "2. If the context does not contain the answer (or is empty), \n",
    "   say politely: \"I couldn’t find this in my reference materials, \n",
    "   but based on my broader knowledge, here’s what I know:\" \n",
    "   and then answer using your own understanding.\n",
    "3. Keep the tone empathetic, supportive, and clear.\n",
    "4. Never give harmful advice. If the user expresses crisis \n",
    "   (suicidal thoughts, self-harm), tell them to seek \n",
    "   immediate help from a professional or emergency services.\n",
    "\n",
    "Context:\n",
    "{context}\n",
    "\n",
    "Question:\n",
    "{question}\n",
    "\n",
    "Answer:\n",
    "\"\"\"\n",
    "\n",
    "prompt = PromptTemplate(\n",
    "    template=template, input_variables=[\"context\", \"question\"]\n",
    ")\n"
   ]
  },
  {
   "cell_type": "code",
   "execution_count": null,
   "id": "d696c5cc",
   "metadata": {},
   "outputs": [],
   "source": []
  },
  {
   "cell_type": "code",
   "execution_count": null,
   "id": "fd1f1d6e",
   "metadata": {},
   "outputs": [],
   "source": []
  }
 ],
 "metadata": {
  "kernelspec": {
   "display_name": "venv (3.13.3)",
   "language": "python",
   "name": "python3"
  },
  "language_info": {
   "codemirror_mode": {
    "name": "ipython",
    "version": 3
   },
   "file_extension": ".py",
   "mimetype": "text/x-python",
   "name": "python",
   "nbconvert_exporter": "python",
   "pygments_lexer": "ipython3",
   "version": "3.13.3"
  }
 },
 "nbformat": 4,
 "nbformat_minor": 5
}
